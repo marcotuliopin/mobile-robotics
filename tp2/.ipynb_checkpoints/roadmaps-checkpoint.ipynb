{
 "cells": [
  {
   "cell_type": "code",
   "execution_count": 1,
   "id": "3e401c0d-b580-40c5-8e0a-1d7194f7080a",
   "metadata": {},
   "outputs": [],
   "source": [
    "import numpy as np\n",
    "import matplotlib.pyplot as plt\n",
    "from coppeliasim_zmqremoteapi_client import RemoteAPIClient\n",
    "\n",
    "import matplotlib.image as mpimg\n",
    "import networkx as nx"
   ]
  },
  {
   "cell_type": "code",
   "execution_count": 2,
   "id": "be6078d2-e53e-48fb-a6bf-1939709da5d8",
   "metadata": {},
   "outputs": [
    {
     "data": {
      "text/plain": [
       "0"
      ]
     },
     "execution_count": 2,
     "metadata": {},
     "output_type": "execute_result"
    }
   ],
   "source": [
    "# Connect to the Coppeliasim API\n",
    "client = RemoteAPIClient()\n",
    "sim = client.require('sim')\n",
    "sim.setStepping(False)\n"
   ]
  },
  {
   "cell_type": "code",
   "execution_count": 3,
   "id": "5395bc09-0338-45e1-b23d-1e716e199732",
   "metadata": {},
   "outputs": [],
   "source": [
    "robot_path = '/PioneerP3DX'\n",
    "robot_handle = sim.getObject('/PioneerP3DX')\n",
    "\n",
    "goal_handle = sim.getObject('/ReferenceFrame')\n",
    "\n",
    "rmotor = sim.getObject(robot_path + '/rightMotor')\n",
    "lmotor = sim.getObject(robot_path + '/leftMotor')\n",
    "\n",
    "sensors = []\n",
    "for i in range(16):\n",
    "    sensors.append(sim.getObject(robot_path + f'/ultrasonicSensor[{i}]'))"
   ]
  },
  {
   "cell_type": "code",
   "execution_count": 4,
   "id": "83c95e81-4d4f-40f0-a1c8-162217c0115d",
   "metadata": {},
   "outputs": [
    {
     "data": {
      "text/plain": [
       "1"
      ]
     },
     "execution_count": 4,
     "metadata": {},
     "output_type": "execute_result"
    }
   ],
   "source": [
    "# Start simulation\n",
    "sim.startSimulation()\n",
    "\n",
    "sim.setJointTargetVelocity(rmotor, 0)\n",
    "sim.setJointTargetVelocity(lmotor, 0)"
   ]
  },
  {
   "cell_type": "markdown",
   "id": "632e2a9c-7957-46db-a0b4-bb732705defb",
   "metadata": {},
   "source": [
    "## Roadmaps\n",
    "Implementação de roadmaps para **robô holonômico**."
   ]
  },
  {
   "cell_type": "code",
   "execution_count": 5,
   "id": "9a7622f7-a669-4fc5-a2dd-ebfa7133653c",
   "metadata": {},
   "outputs": [
    {
     "ename": "FileNotFoundError",
     "evalue": "[Errno 2] No such file or directory: 'img/paredes-2.png'",
     "output_type": "error",
     "traceback": [
      "\u001b[1;31m---------------------------------------------------------------------------\u001b[0m",
      "\u001b[1;31mFileNotFoundError\u001b[0m                         Traceback (most recent call last)",
      "Cell \u001b[1;32mIn[5], line 4\u001b[0m\n\u001b[0;32m      1\u001b[0m fig \u001b[38;5;241m=\u001b[39m plt\u001b[38;5;241m.\u001b[39mfigure(figsize\u001b[38;5;241m=\u001b[39m(\u001b[38;5;241m8\u001b[39m,\u001b[38;5;241m8\u001b[39m), dpi\u001b[38;5;241m=\u001b[39m\u001b[38;5;241m100\u001b[39m)\n\u001b[0;32m      2\u001b[0m ax \u001b[38;5;241m=\u001b[39m fig\u001b[38;5;241m.\u001b[39madd_subplot(\u001b[38;5;241m111\u001b[39m, aspect\u001b[38;5;241m=\u001b[39m\u001b[38;5;124m'\u001b[39m\u001b[38;5;124mequal\u001b[39m\u001b[38;5;124m'\u001b[39m)\n\u001b[1;32m----> 4\u001b[0m img \u001b[38;5;241m=\u001b[39m mpimg\u001b[38;5;241m.\u001b[39mimread(\u001b[38;5;124m'\u001b[39m\u001b[38;5;124mimg/paredes-2.png\u001b[39m\u001b[38;5;124m'\u001b[39m) \n\u001b[0;32m      5\u001b[0m img \u001b[38;5;241m=\u001b[39m img\u001b[38;5;241m.\u001b[39mcopy()\n\u001b[0;32m      6\u001b[0m threshold \u001b[38;5;241m=\u001b[39m \u001b[38;5;241m0.5\u001b[39m\n",
      "File \u001b[1;32mC:\\Anaconda\\Lib\\site-packages\\matplotlib\\image.py:1525\u001b[0m, in \u001b[0;36mimread\u001b[1;34m(fname, format)\u001b[0m\n\u001b[0;32m   1518\u001b[0m \u001b[38;5;28;01mif\u001b[39;00m \u001b[38;5;28misinstance\u001b[39m(fname, \u001b[38;5;28mstr\u001b[39m) \u001b[38;5;129;01mand\u001b[39;00m \u001b[38;5;28mlen\u001b[39m(parse\u001b[38;5;241m.\u001b[39murlparse(fname)\u001b[38;5;241m.\u001b[39mscheme) \u001b[38;5;241m>\u001b[39m \u001b[38;5;241m1\u001b[39m:\n\u001b[0;32m   1519\u001b[0m     \u001b[38;5;66;03m# Pillow doesn't handle URLs directly.\u001b[39;00m\n\u001b[0;32m   1520\u001b[0m     \u001b[38;5;28;01mraise\u001b[39;00m \u001b[38;5;167;01mValueError\u001b[39;00m(\n\u001b[0;32m   1521\u001b[0m         \u001b[38;5;124m\"\u001b[39m\u001b[38;5;124mPlease open the URL for reading and pass the \u001b[39m\u001b[38;5;124m\"\u001b[39m\n\u001b[0;32m   1522\u001b[0m         \u001b[38;5;124m\"\u001b[39m\u001b[38;5;124mresult to Pillow, e.g. with \u001b[39m\u001b[38;5;124m\"\u001b[39m\n\u001b[0;32m   1523\u001b[0m         \u001b[38;5;124m\"\u001b[39m\u001b[38;5;124m``np.array(PIL.Image.open(urllib.request.urlopen(url)))``.\u001b[39m\u001b[38;5;124m\"\u001b[39m\n\u001b[0;32m   1524\u001b[0m         )\n\u001b[1;32m-> 1525\u001b[0m \u001b[38;5;28;01mwith\u001b[39;00m img_open(fname) \u001b[38;5;28;01mas\u001b[39;00m image:\n\u001b[0;32m   1526\u001b[0m     \u001b[38;5;28;01mreturn\u001b[39;00m (_pil_png_to_float_array(image)\n\u001b[0;32m   1527\u001b[0m             \u001b[38;5;28;01mif\u001b[39;00m \u001b[38;5;28misinstance\u001b[39m(image, PIL\u001b[38;5;241m.\u001b[39mPngImagePlugin\u001b[38;5;241m.\u001b[39mPngImageFile) \u001b[38;5;28;01melse\u001b[39;00m\n\u001b[0;32m   1528\u001b[0m             pil_to_array(image))\n",
      "File \u001b[1;32mC:\\Anaconda\\Lib\\site-packages\\PIL\\ImageFile.py:125\u001b[0m, in \u001b[0;36mImageFile.__init__\u001b[1;34m(self, fp, filename)\u001b[0m\n\u001b[0;32m    121\u001b[0m \u001b[38;5;28mself\u001b[39m\u001b[38;5;241m.\u001b[39mdecodermaxblock \u001b[38;5;241m=\u001b[39m MAXBLOCK\n\u001b[0;32m    123\u001b[0m \u001b[38;5;28;01mif\u001b[39;00m is_path(fp):\n\u001b[0;32m    124\u001b[0m     \u001b[38;5;66;03m# filename\u001b[39;00m\n\u001b[1;32m--> 125\u001b[0m     \u001b[38;5;28mself\u001b[39m\u001b[38;5;241m.\u001b[39mfp \u001b[38;5;241m=\u001b[39m \u001b[38;5;28mopen\u001b[39m(fp, \u001b[38;5;124m\"\u001b[39m\u001b[38;5;124mrb\u001b[39m\u001b[38;5;124m\"\u001b[39m)\n\u001b[0;32m    126\u001b[0m     \u001b[38;5;28mself\u001b[39m\u001b[38;5;241m.\u001b[39mfilename \u001b[38;5;241m=\u001b[39m fp\n\u001b[0;32m    127\u001b[0m     \u001b[38;5;28mself\u001b[39m\u001b[38;5;241m.\u001b[39m_exclusive_fp \u001b[38;5;241m=\u001b[39m \u001b[38;5;28;01mTrue\u001b[39;00m\n",
      "\u001b[1;31mFileNotFoundError\u001b[0m: [Errno 2] No such file or directory: 'img/paredes-2.png'"
     ]
    },
    {
     "data": {
      "image/png": "[encoded data removed]",
      "text/plain": [
       "<Figure size 800x800 with 1 Axes>"
      ]
     },
     "metadata": {},
     "output_type": "display_data"
    }
   ],
   "source": [
    "fig = plt.figure(figsize=(8,8), dpi=100)\n",
    "ax = fig.add_subplot(111, aspect='equal')\n",
    "\n",
    "img = mpimg.imread('img/paredes-2.png') \n",
    "img = img.copy()\n",
    "threshold = 0.5\n",
    "img[img >= threshold] = 1\n",
    "img[img < threshold] = 0\n",
    "\n",
    "ax.imshow(img, cmap='Greys', origin='upper')\n",
    "img.shape"
   ]
  },
  {
   "cell_type": "code",
   "execution_count": null,
   "id": "d8aa64c9-d02d-4123-b2da-d08d5840e3bf",
   "metadata": {},
   "outputs": [],
   "source": [
    "# Dimensões do mapa informado em metros (X, Y)\n",
    "map_dims = np.array([13, 13]) # Paredes 2\n",
    "\n",
    "# Escala Pixel/Metro\n",
    "sy, sx = img.shape / map_dims\n",
    "\n",
    "# Tamanho da célula do nosso Grid (em metros)\n",
    "cell_size = 0.5\n",
    "\n",
    "rows, cols = (map_dims / cell_size).astype(int)\n",
    "grid = np.zeros((rows, cols))\n",
    "\n",
    "# Preenchendo o Grid\n",
    "# Cada célula recebe o somatório dos valores dos Pixels\n",
    "for r in range(rows):\n",
    "    for c in range(cols):\n",
    "        \n",
    "        xi = int(c*cell_size*sx)\n",
    "        xf = int(xi + cell_size*sx)\n",
    "        \n",
    "        yi = int(r*cell_size*sy)\n",
    "        yf = int(yi + cell_size*sy)\n",
    "                      \n",
    "        grid[r, c] = np.sum(img[yi:yf,xi:xf])\n",
    "        \n",
    "# Binarizando as células como Ocupadas (1) ou Não-ocupadas (0)       \n",
    "grid[grid >= threshold] = 1\n",
    "grid[grid < threshold] = 0        \n",
    "\n",
    "fig = plt.figure(figsize=(5,5), dpi=100)\n",
    "ax = fig.add_subplot(111, aspect='equal')\n",
    "\n",
    "# Plotando Mapa e Células\n",
    "obj = ax.imshow(img, cmap='Greys', extent=(0, map_dims[1], 0, map_dims[0]), origin='upper')\n",
    "obj = ax.imshow(grid, cmap='Reds', extent=(0, map_dims[1], 0, map_dims[0]), alpha=.6)\n",
    "\n",
    "# Plotando as linhas do grid para facilitar a visualização\n",
    "ax.grid(which='major', axis='both', linestyle='-', color='r', linewidth=1)\n",
    "ax.set_xticks(np.arange(0, map_dims[1]+1, cell_size))\n",
    "ax.set_yticks(np.arange(0, map_dims[0]+1, cell_size))"
   ]
  },
  {
   "cell_type": "code",
   "execution_count": null,
   "id": "d7d31266-1aa6-4928-a7d0-c7146eeb355a",
   "metadata": {},
   "outputs": [],
   "source": [
    "# Criando o Grafo para o nosso Grid\n",
    "\n",
    "# Criando vértices em todas as células\n",
    "G = nx.grid_2d_graph(rows, cols) \n",
    "\n",
    "# Removendo células que estão em células marcas com obstáculos\n",
    "for r in range(rows):\n",
    "    for c in range(cols):\n",
    "        if grid[r][c] == 1:  \n",
    "            G.remove_node((r,c))\n",
    "\n",
    "\n",
    "fig = plt.figure(figsize=(8,8), dpi=100)\n",
    "ax = fig.add_subplot(111, aspect='equal')\n",
    "\n",
    "# Grid\n",
    "obj = ax.imshow(grid, cmap='Greys', extent=(0, map_dims[1], 0, map_dims[0]))\n",
    "\n",
    "ax.grid(which='major', axis='both', linestyle='-', color='r', linewidth=1)\n",
    "ax.set_xticks(np.arange(0, map_dims[1]+1, cell_size))\n",
    "ax.set_yticks(np.arange(0, map_dims[0]+1, cell_size))\n",
    "\n",
    "# Os vértices serão plotados no centro da célula  \n",
    "pos = {node:(node[1]*cell_size+cell_size/2, map_dims[0]-node[0]*cell_size-cell_size/2) for node in G.nodes()}\n",
    "nx.draw(G, pos, font_size=3, with_labels=True, node_size=50, node_color=\"g\", ax=ax)"
   ]
  },
  {
   "cell_type": "code",
   "execution_count": null,
   "id": "712df986-0a6a-4f97-bd3e-2066fecce675",
   "metadata": {},
   "outputs": [],
   "source": [
    "# Finalmente podemos determinar o menor caminho entre duas células\n",
    "# ATENÇÃO para o Sistema de Coordenadas -- relação Índice do grid e Posição no mundo\n",
    "\n",
    "# Cave\n",
    "start_node =  (1, 1)\n",
    "end_node = (10, 10)\n",
    "\n",
    "# Maze\n",
    "#start_node =  (1, 1)\n",
    "#end_node = (20, 41)\n",
    "\n",
    "\n",
    "fig = plt.figure(figsize=(8,8), dpi=100)\n",
    "ax = fig.add_subplot(111, aspect='equal')\n",
    "\n",
    "# Mapa\n",
    "obj = ax.imshow(grid, cmap='Greys', extent=(0, map_dims[1], 0,map_dims[0]))\n",
    "\n",
    "# Caminho\n",
    "path = nx.shortest_path(G, source=start_node, target=end_node)\n",
    "nx.draw_networkx_nodes(G, pos, nodelist=path, node_size=100, node_color='b')"
   ]
  }
 ],
 "metadata": {
  "kernelspec": {
   "display_name": "Python 3 (ipykernel)",
   "language": "python",
   "name": "python3"
  },
  "language_info": {
   "codemirror_mode": {
    "name": "ipython",
    "version": 3
   },
   "file_extension": ".py",
   "mimetype": "text/x-python",
   "name": "python",
   "nbconvert_exporter": "python",
   "pygments_lexer": "ipython3",
   "version": "3.11.7"
  }
 },
 "nbformat": 4,
 "nbformat_minor": 5
}
