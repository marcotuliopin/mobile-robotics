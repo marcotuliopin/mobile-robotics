{
 "cells": [
  {
   "cell_type": "code",
   "execution_count": 17,
   "id": "5177b9f8-573c-4df0-86bd-7c1ea41d91eb",
   "metadata": {},
   "outputs": [],
   "source": [
    "import numpy as np\n",
    "import matplotlib.pyplot as plt\n",
    "import time\n",
    "from coppeliasim_zmqremoteapi_client import RemoteAPIClient\n",
    "from IPython.display import clear_output\n"
   ]
  },
  {
   "cell_type": "code",
   "execution_count": 18,
   "id": "94715f53-658d-4eec-99d7-836a51a42bb2",
   "metadata": {},
   "outputs": [],
   "source": [
    "# Connect to the Coppeliasim API\n",
    "client = RemoteAPIClient()\n",
    "sim = client.require('sim')\n"
   ]
  },
  {
   "cell_type": "code",
   "execution_count": 19,
   "id": "cbf8d2f1-9814-48be-b0e2-b29be63a4a92",
   "metadata": {},
   "outputs": [],
   "source": [
    "robot_path = '/PioneerP3DX'\n",
    "robot_handle = sim.getObject('/PioneerP3DX')\n",
    "\n",
    "goal_handle = sim.getObject('/ReferenceFrame')\n",
    "\n",
    "rmotor = sim.getObject(robot_path + '/rightMotor')\n",
    "lmotor = sim.getObject(robot_path + '/leftMotor')\n",
    "\n",
    "sensors = []\n",
    "for i in range(16):\n",
    "    sensors.append(sim.getObject(robot_path + f'/ultrasonicSensor[{i}]'))"
   ]
  },
  {
   "cell_type": "code",
   "execution_count": 20,
   "id": "ae761de2-6a96-4e16-99ad-38f39a962ede",
   "metadata": {},
   "outputs": [
    {
     "data": {
      "text/plain": [
       "1"
      ]
     },
     "execution_count": 20,
     "metadata": {},
     "output_type": "execute_result"
    }
   ],
   "source": [
    "# Start simulation\n",
    "sim.setStepping(False)\n",
    "sim.startSimulation()\n",
    "\n",
    "sim.setJointTargetVelocity(rmotor, 0)\n",
    "sim.setJointTargetVelocity(lmotor, 0)"
   ]
  },
  {
   "cell_type": "markdown",
   "id": "8cb39fe3-79bc-412f-9271-6894e609efa1",
   "metadata": {},
   "source": [
    "## Campos Potenciais\n",
    "Implementação de campos potenciais para **robô diferencial**."
   ]
  },
  {
   "cell_type": "code",
   "execution_count": 21,
   "id": "51ec1346-c7da-408a-a466-736bc995b486",
   "metadata": {
    "scrolled": true
   },
   "outputs": [],
   "source": [
    "def att_force(q, goal, katt=.3):\n",
    "    return katt*(goal - q)\n",
    "\n",
    "def rep_force(q, obs, R=1, krep=.1):\n",
    "    # Obstáculo: (x, y, r)\n",
    "    v = q - obs[0:2]\n",
    "    d = np.linalg.norm(v, axis=1) - obs[2]\n",
    "    d = d.reshape((len(v) ,1))\n",
    "    \n",
    "    rep = (1/d**2)*((1/d)-(1/R))*(v/d)    \n",
    "    \n",
    "    invalid = np.squeeze(d > R)\n",
    "    rep[invalid, :] = 0\n",
    "    \n",
    "    return krep*rep\n",
    "\n",
    "def normalize_angle(angle):\n",
    "    return np.arctan2(np.sin(angle), np.cos(angle))"
   ]
  },
  {
   "cell_type": "code",
   "execution_count": 24,
   "id": "a25e2153-7a25-4fbe-a640-bf1cb5d5324d",
   "metadata": {},
   "outputs": [
    {
     "ename": "Exception",
     "evalue": "316: in sim.readProximitySensor: object is not a proximity sensor.",
     "output_type": "error",
     "traceback": [
      "\u001b[1;31m---------------------------------------------------------------------------\u001b[0m",
      "\u001b[1;31mException\u001b[0m                                 Traceback (most recent call last)",
      "Cell \u001b[1;32mIn[24], line 37\u001b[0m\n\u001b[0;32m     35\u001b[0m frep \u001b[38;5;241m=\u001b[39m \u001b[38;5;241m0\u001b[39m\n\u001b[0;32m     36\u001b[0m \u001b[38;5;28;01mfor\u001b[39;00m sensor \u001b[38;5;129;01min\u001b[39;00m sensors:\n\u001b[1;32m---> 37\u001b[0m     res, dist, pobs, _, _ \u001b[38;5;241m=\u001b[39m sim\u001b[38;5;241m.\u001b[39mreadProximitySensor(sensor)\n\u001b[0;32m     38\u001b[0m     \u001b[38;5;28;01mif\u001b[39;00m res \u001b[38;5;129;01mand\u001b[39;00m dist \u001b[38;5;241m<\u001b[39m R:\n\u001b[0;32m     39\u001b[0m         pobs \u001b[38;5;241m=\u001b[39m np\u001b[38;5;241m.\u001b[39marray(sim\u001b[38;5;241m.\u001b[39mmultiplyVector(sim\u001b[38;5;241m.\u001b[39mgetObjectMatrix(sensor), pobs))\n",
      "File \u001b[1;32mC:\\Anaconda\\Lib\\site-packages\\coppeliasim_zmqremoteapi_client\\__init__.py:174\u001b[0m, in \u001b[0;36mRemoteAPIClient.getObject.<locals>.<lambda>\u001b[1;34m(func, *a)\u001b[0m\n\u001b[0;32m    172\u001b[0m     \u001b[38;5;28;01mraise\u001b[39;00m \u001b[38;5;167;01mValueError\u001b[39;00m(\u001b[38;5;124m'\u001b[39m\u001b[38;5;124mfound nondict\u001b[39m\u001b[38;5;124m'\u001b[39m)\n\u001b[0;32m    173\u001b[0m \u001b[38;5;28;01mif\u001b[39;00m \u001b[38;5;28mlen\u001b[39m(v) \u001b[38;5;241m==\u001b[39m \u001b[38;5;241m1\u001b[39m \u001b[38;5;129;01mand\u001b[39;00m \u001b[38;5;124m'\u001b[39m\u001b[38;5;124mfunc\u001b[39m\u001b[38;5;124m'\u001b[39m \u001b[38;5;129;01min\u001b[39;00m v:\n\u001b[1;32m--> 174\u001b[0m     \u001b[38;5;28msetattr\u001b[39m(ret, k, \u001b[38;5;28;01mlambda\u001b[39;00m \u001b[38;5;241m*\u001b[39ma, func\u001b[38;5;241m=\u001b[39m\u001b[38;5;124mf\u001b[39m\u001b[38;5;124m'\u001b[39m\u001b[38;5;132;01m{\u001b[39;00mname\u001b[38;5;132;01m}\u001b[39;00m\u001b[38;5;124m.\u001b[39m\u001b[38;5;132;01m{\u001b[39;00mk\u001b[38;5;132;01m}\u001b[39;00m\u001b[38;5;124m'\u001b[39m: \u001b[38;5;28mself\u001b[39m\u001b[38;5;241m.\u001b[39mcall(func, a))\n\u001b[0;32m    175\u001b[0m \u001b[38;5;28;01melif\u001b[39;00m \u001b[38;5;28mlen\u001b[39m(v) \u001b[38;5;241m==\u001b[39m \u001b[38;5;241m1\u001b[39m \u001b[38;5;129;01mand\u001b[39;00m \u001b[38;5;124m'\u001b[39m\u001b[38;5;124mconst\u001b[39m\u001b[38;5;124m'\u001b[39m \u001b[38;5;129;01min\u001b[39;00m v:\n\u001b[0;32m    176\u001b[0m     \u001b[38;5;28msetattr\u001b[39m(ret, k, v[\u001b[38;5;124m'\u001b[39m\u001b[38;5;124mconst\u001b[39m\u001b[38;5;124m'\u001b[39m])\n",
      "File \u001b[1;32mC:\\Anaconda\\Lib\\site-packages\\coppeliasim_zmqremoteapi_client\\__init__.py:162\u001b[0m, in \u001b[0;36mRemoteAPIClient.call\u001b[1;34m(self, func, args)\u001b[0m\n\u001b[0;32m    160\u001b[0m     reply \u001b[38;5;241m=\u001b[39m \u001b[38;5;28mself\u001b[39m\u001b[38;5;241m.\u001b[39m_recv()\n\u001b[0;32m    161\u001b[0m \u001b[38;5;28;01mif\u001b[39;00m \u001b[38;5;124m'\u001b[39m\u001b[38;5;124merr\u001b[39m\u001b[38;5;124m'\u001b[39m \u001b[38;5;129;01min\u001b[39;00m reply:\n\u001b[1;32m--> 162\u001b[0m     \u001b[38;5;28;01mraise\u001b[39;00m \u001b[38;5;167;01mException\u001b[39;00m(reply\u001b[38;5;241m.\u001b[39mget(\u001b[38;5;124m'\u001b[39m\u001b[38;5;124merr\u001b[39m\u001b[38;5;124m'\u001b[39m))  \u001b[38;5;66;03m# __EXCEPTION__\u001b[39;00m\n\u001b[0;32m    163\u001b[0m \u001b[38;5;28;01mreturn\u001b[39;00m \u001b[38;5;28mself\u001b[39m\u001b[38;5;241m.\u001b[39m_process_response(reply)\n",
      "\u001b[1;31mException\u001b[0m: 316: in sim.readProximitySensor: object is not a proximity sensor."
     ]
    }
   ],
   "source": [
    "# Start simulation\n",
    "sim.setStepping(False)\n",
    "sim.startSimulation()\n",
    "\n",
    "sim.setJointTargetVelocity(rmotor, 0)\n",
    "sim.setJointTargetVelocity(lmotor, 0)\n",
    "\n",
    "R = 1.4 # distância máxima de influência de um obstáculo\n",
    "\n",
    "kr = 1\n",
    "kt = 1\n",
    "katt = .03\n",
    "krep = .04\n",
    "\n",
    "max_attr = 0.1\n",
    "max_rep = 0.20\n",
    "\n",
    "# Específico do robô\n",
    "# https://www.generationrobots.com/media/Pioneer3DX-P3DX-RevA.pdf\n",
    "L = 0.381\n",
    "r = 0.0975\n",
    "maxv = 1.0\n",
    "maxw = np.deg2rad(45)\n",
    "\n",
    "rho = np.inf\n",
    "while True:\n",
    "    *pgoal, _ = sim.getObjectPosition(goal_handle)\n",
    "    *pcurr, _ = sim.getObjectPosition(robot_handle)\n",
    "    _, _, ocurr = sim.getObjectOrientation(robot_handle)\n",
    "\n",
    "    pgoal = np.array(pgoal[:2])\n",
    "    pcurr = np.array(pcurr[:2])\n",
    "\n",
    "    fattr = katt*(pgoal - pcurr)\n",
    "    frep = 0\n",
    "    for sensor in sensors:\n",
    "        res, dist, pobs, _, _ = sim.readProximitySensor(sensor)\n",
    "        if res and dist < R:\n",
    "            pobs = np.array(sim.multiplyVector(sim.getObjectMatrix(sensor), pobs))\n",
    "            pobs = np.array(pobs[:2])\n",
    "            dv = pcurr - pobs\n",
    "            d = np.linalg.norm(dv)\n",
    "            frep += krep*(1/d**2)*((1/d)-(1/R))*(dv/d)\n",
    "    fattr = np.clip(fattr, -max_attr, max_attr)\n",
    "    frep = np.clip(frep, -max_rep, max_rep)\n",
    "\n",
    "    frand = np.random.uniform(-0.001, 0.001, size=2)\n",
    "    \n",
    "    ft = fattr + frep + frand\n",
    "    \n",
    "    fx = ft[0]\n",
    "    fy = ft[1]\n",
    "\n",
    "    v = kr*(fx*np.cos(ocurr) + fy*np.sin(ocurr))\n",
    "    w = kt*(np.arctan2(fy, fx) - ocurr)\n",
    "    \n",
    "    v = max(min(v, maxv), -maxv)\n",
    "    w = max(min(w, maxw), -maxw)\n",
    "    \n",
    "    vr = ((2.0*v) + (w*L))/(2.0*r)\n",
    "    vl = ((2.0*v) - (w*L))/(2.0*r)\n",
    "    sim.setJointTargetVelocity(rmotor, vr)\n",
    "    sim.setJointTargetVelocity(lmotor, vl)\n",
    "\n",
    "\n",
    "sim.setJointTargetVelocity(rmotor, 0)\n",
    "sim.setJointTargetVelocity(lmotor, 0)"
   ]
  },
  {
   "cell_type": "code",
   "execution_count": null,
   "id": "42e58f2f-d083-4481-a7f5-cdeb6d3aecfd",
   "metadata": {},
   "outputs": [],
   "source": [
    "# End simulation\n",
    "sim.stopSimulation()\n"
   ]
  },
  {
   "cell_type": "code",
   "execution_count": null,
   "id": "da4d6f00-888c-49f0-be90-9e60e10e7346",
   "metadata": {},
   "outputs": [],
   "source": []
  },
  {
   "cell_type": "code",
   "execution_count": null,
   "id": "d0cadbb8-8ba1-46f5-82d9-75210e6035ec",
   "metadata": {},
   "outputs": [],
   "source": []
  }
 ],
 "metadata": {
  "kernelspec": {
   "display_name": "Python 3 (ipykernel)",
   "language": "python",
   "name": "python3"
  },
  "language_info": {
   "codemirror_mode": {
    "name": "ipython",
    "version": 3
   },
   "file_extension": ".py",
   "mimetype": "text/x-python",
   "name": "python",
   "nbconvert_exporter": "python",
   "pygments_lexer": "ipython3",
   "version": "3.11.7"
  }
 },
 "nbformat": 4,
 "nbformat_minor": 5
}
