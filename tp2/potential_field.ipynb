{
 "cells": [
  {
   "cell_type": "code",
   "execution_count": 198,
   "id": "5177b9f8-573c-4df0-86bd-7c1ea41d91eb",
   "metadata": {},
   "outputs": [],
   "source": [
    "import numpy as np\n",
    "import matplotlib.pyplot as plt\n",
    "from coppeliasim_zmqremoteapi_client import RemoteAPIClient\n"
   ]
  },
  {
   "cell_type": "code",
   "execution_count": 199,
   "id": "94715f53-658d-4eec-99d7-836a51a42bb2",
   "metadata": {},
   "outputs": [
    {
     "data": {
      "text/plain": [
       "0"
      ]
     },
     "execution_count": 199,
     "metadata": {},
     "output_type": "execute_result"
    }
   ],
   "source": [
    "# Connect to the Coppeliasim API\n",
    "client = RemoteAPIClient()\n",
    "sim = client.require('sim')\n",
    "sim.setStepping(False)\n"
   ]
  },
  {
   "cell_type": "code",
   "execution_count": 200,
   "id": "cbf8d2f1-9814-48be-b0e2-b29be63a4a92",
   "metadata": {},
   "outputs": [],
   "source": [
    "robot_path = '/PioneerP3DX'\n",
    "robot_handle = sim.getObject('/PioneerP3DX')\n",
    "\n",
    "goal_handle = sim.getObject('/ReferenceFrame')\n",
    "\n",
    "rmotor = sim.getObject(robot_path + '/rightMotor')\n",
    "lmotor = sim.getObject(robot_path + '/leftMotor')\n",
    "\n",
    "sensors = []\n",
    "for i in range(16):\n",
    "    sensors.append(sim.getObject(robot_path + f'/ultrasonicSensor[{i}]'))"
   ]
  },
  {
   "cell_type": "code",
   "execution_count": 201,
   "id": "ae761de2-6a96-4e16-99ad-38f39a962ede",
   "metadata": {
    "scrolled": true
   },
   "outputs": [
    {
     "data": {
      "text/plain": [
       "1"
      ]
     },
     "execution_count": 201,
     "metadata": {},
     "output_type": "execute_result"
    }
   ],
   "source": [
    "# Start simulation\n",
    "sim.startSimulation()\n",
    "\n",
    "sim.setJointTargetVelocity(rmotor, 0)\n",
    "sim.setJointTargetVelocity(lmotor, 0)"
   ]
  },
  {
   "cell_type": "markdown",
   "id": "8cb39fe3-79bc-412f-9271-6894e609efa1",
   "metadata": {},
   "source": [
    "## Campos Potenciais\n",
    "Implementação de campos potenciais para **robô diferencial**."
   ]
  },
  {
   "cell_type": "code",
   "execution_count": null,
   "id": "a25e2153-7a25-4fbe-a640-bf1cb5d5324d",
   "metadata": {},
   "outputs": [],
   "source": [
    "# Start simulation\n",
    "sim.startSimulation()\n",
    "\n",
    "sim.setJointTargetVelocity(rmotor, 0)\n",
    "sim.setJointTargetVelocity(lmotor, 0)\n",
    "\n",
    "R = 1.1 # distância máxima de influência de um obstáculo\n",
    "\n",
    "kr = 1\n",
    "kt = .7\n",
    "katt = .03\n",
    "krep = .05\n",
    "\n",
    "max_attr = 0.2\n",
    "max_rep = 0.25\n",
    "\n",
    "# Específico do robô\n",
    "# https://www.generationrobots.com/media/Pioneer3DX-P3DX-RevA.pdf\n",
    "L = 0.381\n",
    "r = 0.0975\n",
    "maxv = 1.0\n",
    "maxw = np.deg2rad(45)\n",
    "\n",
    "rho = np.inf\n",
    "while rho > .5:\n",
    "    *pgoal, _ = sim.getObjectPosition(goal_handle)\n",
    "    *pcurr, _ = sim.getObjectPosition(robot_handle)\n",
    "    _, _, ocurr = sim.getObjectOrientation(robot_handle)\n",
    "\n",
    "    pgoal = np.array(pgoal[:2])\n",
    "    pcurr = np.array(pcurr[:2])\n",
    "\n",
    "    fattr = katt*(pgoal - pcurr) # Calcula a força de atração\n",
    "\n",
    "    # Calcula a força de repulsão\n",
    "    frep = 0\n",
    "    for sensor in sensors:\n",
    "        res, dist, pobs, _, _ = sim.readProximitySensor(sensor)\n",
    "        if res and dist < R:\n",
    "            # Calcula a posição do obstáculo no referencial global\n",
    "            pobs = np.array(sim.multiplyVector(sim.getObjectMatrix(sensor), pobs))\n",
    "            pobs = np.array(pobs[:2])\n",
    "            # Calcula a força de repulsão do obstáculo\n",
    "            dv = pcurr - pobs\n",
    "            d = np.linalg.norm(dv)\n",
    "            frep += krep*(1/d**2)*((1/d)-(1/R))*(dv/d)\n",
    "\n",
    "    # Limita as forças de repulsão e atração\n",
    "    fattr = np.clip(fattr, -max_attr, max_attr)\n",
    "    frep = np.clip(frep, -max_rep, max_rep)\n",
    "\n",
    "    # TODO: Cria uma componente aleatória para a força\n",
    "    # frand = np.random.uniform(-0.01, 0.01, size=2)\n",
    "\n",
    "    # Força total\n",
    "    ft = fattr + frep + frand\n",
    "    \n",
    "    fx = ft[0]\n",
    "    fy = ft[1]\n",
    "    \n",
    "    # Controlador [De Luca e Oriolo, 1994]\n",
    "    v = kr*(fx*np.cos(ocurr) + fy*np.sin(ocurr))\n",
    "    w = kt*(np.arctan2(fy, fx) - ocurr)\n",
    "    \n",
    "    v = max(min(v, maxv), -maxv)\n",
    "    w = max(min(w, maxw), -maxw)\n",
    "    \n",
    "    vr = ((2.0*v) + (w*L))/(2.0*r)\n",
    "    vl = ((2.0*v) - (w*L))/(2.0*r)\n",
    "    sim.setJointTargetVelocity(rmotor, vr)\n",
    "    sim.setJointTargetVelocity(lmotor, vl)\n",
    "\n",
    "    # Apenas para interromper o loop\n",
    "    dx, dy = pgoal - pcurr\n",
    "    rho = np.sqrt(dx**2 + dy**2)\n",
    "\n",
    "# End simulation\n",
    "sim.setJointTargetVelocity(rmotor, 0)\n",
    "sim.setJointTargetVelocity(lmotor, 0)\n",
    "\n",
    "sim.stopSimulation()"
   ]
  },
  {
   "cell_type": "code",
   "execution_count": null,
   "id": "42e58f2f-d083-4481-a7f5-cdeb6d3aecfd",
   "metadata": {},
   "outputs": [],
   "source": [
    "# End simulation\n",
    "sim.stopSimulation()\n"
   ]
  }
 ],
 "metadata": {
  "kernelspec": {
   "display_name": "Python 3 (ipykernel)",
   "language": "python",
   "name": "python3"
  },
  "language_info": {
   "codemirror_mode": {
    "name": "ipython",
    "version": 3
   },
   "file_extension": ".py",
   "mimetype": "text/x-python",
   "name": "python",
   "nbconvert_exporter": "python",
   "pygments_lexer": "ipython3",
   "version": "3.11.7"
  }
 },
 "nbformat": 4,
 "nbformat_minor": 5
}
