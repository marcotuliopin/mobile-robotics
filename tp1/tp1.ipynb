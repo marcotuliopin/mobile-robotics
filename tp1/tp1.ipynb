{
 "cells": [
  {
   "cell_type": "code",
   "execution_count": 300,
   "id": "24b9f377",
   "metadata": {},
   "outputs": [],
   "source": [
    "import numpy as np\n",
    "import matplotlib.pyplot as plt\n",
    "import time\n",
    "from coppeliasim_zmqremoteapi_client import RemoteAPIClient\n",
    "from IPython.display import clear_output\n"
   ]
  },
  {
   "cell_type": "markdown",
   "id": "5cfc740a",
   "metadata": {},
   "source": [
    "## Transformation Functions"
   ]
  },
  {
   "cell_type": "code",
   "execution_count": 301,
   "id": "d01e2b7b",
   "metadata": {},
   "outputs": [],
   "source": [
    "def rotation_matrix(theta, axis=2):\n",
    "    \"\"\"\n",
    "    Calculates the rotation matrix of a rigid transformation with a rotation \n",
    "    theta in a given axis.\n",
    "\n",
    "    Parameters\n",
    "        -theta (float): rotation angle.\n",
    "        -axis (int): axis in which the rotation happen.\n",
    "        \n",
    "    Returns\n",
    "        -R (2d np.ndarray): rotation matrix.\n",
    "    \"\"\"\n",
    "    if axis == 0:\n",
    "        # Rotation in the X-axis\n",
    "        return np.array([[ 1,              0,             0 ],\n",
    "                         [ 0, np.cos(theta), -np.sin(theta) ],\n",
    "                         [ 0, np.sin(theta),  np.cos(theta) ]])\n",
    "    elif axis == 1:\n",
    "        # Rotation in the Y-axis\n",
    "        return np.array([[ np.cos(theta),  0, -np.sin(theta)],\n",
    "                         [ 0,              1,             0 ],\n",
    "                         [ np.sin(theta),  0, np.cos(theta) ]])\n",
    "    else:\n",
    "        # Rotation in the Z-axis\n",
    "        return np.array([[ np.cos(theta), -np.sin(theta), 0 ],\n",
    "                         [ np.sin(theta),  np.cos(theta), 0 ],\n",
    "                         [ 0            ,  0            , 1 ]])\n",
    "    "
   ]
  },
  {
   "cell_type": "code",
   "execution_count": 302,
   "id": "595bf269",
   "metadata": {},
   "outputs": [],
   "source": [
    "def homogeneous_transformation(origin, alpha, beta, gamma):\n",
    "    \"\"\"\n",
    "    Calculates the homogeneous transformation matrix given the origin of\n",
    "    the source coordinate system in relation to the destination coordinate system \n",
    "    and the euler angles.\n",
    "    \n",
    "    Parameters:\n",
    "        -origin (1d np.ndarray): origin of the source coordinate system in relation\n",
    "            to the destination coordinate system.\n",
    "        -alpha (float): rotation angle in Z.\n",
    "        -beta (float): rotation angle in Y.\n",
    "        -gamma (float): rotation angle in X.\n",
    "    \n",
    "    Returns:\n",
    "        -T (2d np.ndarray): homogeneous transformation matrix.\n",
    "    \"\"\"\n",
    "    R = rotation_matrix(alpha, axis=0) @ rotation_matrix(beta, axis=1) @ rotation_matrix(gamma, axis=2)\n",
    "    T = np.eye(4)\n",
    "    T[:3, :3] = R\n",
    "    T[:3, 3] = origin\n",
    "    \n",
    "    return T\n"
   ]
  },
  {
   "cell_type": "code",
   "execution_count": 303,
   "id": "9e66ae72",
   "metadata": {},
   "outputs": [],
   "source": [
    "def calculate_object_transformation(objHandle, refHandle):\n",
    "    \"\"\"\n",
    "    Returns the homogeneous transformation matrix of an object given its handle\n",
    "    and the reference handle.\n",
    "    \n",
    "    Parameters:\n",
    "        -objHandle (int): handle of the target object.\n",
    "        -refHandle (int): handle of the object to use as reference in the transformation.\n",
    "    \n",
    "    Returns:\n",
    "        -T (2d np.ndarray): transformation matrix of the target object.        \n",
    "    \"\"\"\n",
    "    position = sim.getObjectPosition(objHandle, refHandle)\n",
    "    orientation = sim.getObjectOrientation(objHandle, refHandle)\n",
    "    return homogeneous_transformation(position, *orientation)"
   ]
  },
  {
   "cell_type": "code",
   "execution_count": 304,
   "id": "92d3790e",
   "metadata": {},
   "outputs": [],
   "source": [
    "def global_references(paths, save=False, filename='plot.png'):\n",
    "    \"\"\"\n",
    "    Get the position and orientation of objects in relation to the global coordinates.\n",
    "    \n",
    "    Parameters:\n",
    "        -paths (list): paths to the objects of the scene.\n",
    "        -save (bool): whether the plot of the new coordinates should be saved.\n",
    "        -filename (string): name of the file in which to save the plot.\n",
    "    Returns:\n",
    "        -global_refs (list): homogeneous transformation matrixes of the points.\n",
    "    \"\"\"\n",
    "    global_refs = []\n",
    "    for path in paths:\n",
    "        handle = sim.getObject(path)\n",
    "        T = calculate_object_transformation(handle, sim.handle_world)\n",
    "        global_refs.append(T)\n",
    "        \n",
    "#     plot_references(*global_refs, label=paths, save=save, filename=filename)\n",
    "    \n",
    "    return global_refs"
   ]
  },
  {
   "cell_type": "code",
   "execution_count": 305,
   "id": "44b6a5d8",
   "metadata": {},
   "outputs": [],
   "source": [
    "def transform_coordinates(origin, *args, label=[], save=False, filename='plot.png'):\n",
    "    \"\"\"\n",
    "    Transform a set of points from one coordinate system to another.\n",
    "    \n",
    "    Parameters:\n",
    "        -origin (2d np.ndarray): homogeneous transformation matrix of the point to be\n",
    "            the origin of the coordinate system.\n",
    "        -*args (list): points to be transformed.\n",
    "        -label (list): label of the points.\n",
    "        -save (bool): whether the plot of the new coordinates should be saved.\n",
    "        -filename (string): name of the file in which to save the plot.\n",
    "        \n",
    "    Returns:\n",
    "        -new_origin (2d np.ndarray): transformation matrix from the old coordinate system\n",
    "            to the new one.\n",
    "        -local_refs (list): points in the new coordinate system.\n",
    "    \"\"\"\n",
    "    new_origin = np.eye(4)\n",
    "    new_origin[:3, :3] = origin[:3, :3].T\n",
    "    new_origin[:3, 3] = -origin[:3, :3].T @ origin[:3, 3]\n",
    "    \n",
    "    local_refs =[]\n",
    "    for arg in args:\n",
    "        local_refs.append(new_origin @ arg)\n",
    "    \n",
    "#     plot_references(*local_refs, label=label, save=save, filename=filename)\n",
    "    \n",
    "    return new_origin, local_refs\n",
    "    "
   ]
  },
  {
   "cell_type": "markdown",
   "id": "19175a0c",
   "metadata": {},
   "source": [
    "## Plot Functions"
   ]
  },
  {
   "cell_type": "code",
   "execution_count": 306,
   "id": "fcab9055",
   "metadata": {},
   "outputs": [],
   "source": [
    "def plot_frame(Porg, R, c=None):\n",
    "    \"\"\"\n",
    "    Plot the orientation of a body in the frame.\n",
    "    \n",
    "    Parameters:\n",
    "        -Porg (1d np.ndarray): position of the body.\n",
    "        -R (2d np.ndarray): rotation of the body.\n",
    "    \n",
    "    Returns:\n",
    "        None.\n",
    "    \"\"\"\n",
    "    axis_size = 1.0    \n",
    "    axes = axis_size*R\n",
    "    \n",
    "    x_axis = np.array(axes[0:2,0])\n",
    "    y_axis = np.array(axes[0:2,1])\n",
    "    \n",
    "    if c == None:\n",
    "        c = ['r', 'g']   \n",
    "        \n",
    "    # X\n",
    "    plt.quiver(*Porg[0:2], *x_axis, color=c[0], angles='xy', scale_units='xy', scale=1)\n",
    "    # Y\n",
    "    plt.quiver(*Porg[0:2], *y_axis, color=c[1], angles='xy', scale_units='xy', scale=1)"
   ]
  },
  {
   "cell_type": "code",
   "execution_count": 307,
   "id": "bac4cb77",
   "metadata": {},
   "outputs": [],
   "source": [
    "def plot_references(*args, label=[], save=False, filename='plot.png'):\n",
    "    # Plotting references\n",
    "    plt.figure()\n",
    "    \n",
    "    color = iter(plt.cm.rainbow(np.linspace(0, 1, len(args))))\n",
    "    \n",
    "    # Plot the objects position and orientation\n",
    "    for arg in args:\n",
    "        c = next(color)\n",
    "        plt.scatter(*arg[:2, 3], color=c, s=70)\n",
    "    \n",
    "    for arg in args:\n",
    "        plot_frame(arg[:2, 3], arg[:3, :3])\n",
    "\n",
    "    # Plot the relation between two objects\n",
    "    for i in range(len(args) - 1):  \n",
    "        relation = args[i][:2, 3] - args[i - 1][:2, 3]\n",
    "        plt.quiver(*args[i - 1][:2, 3], *relation, color='grey', angles='xy', \n",
    "                   scale_units='xy', scale=1, alpha=0.8)\n",
    "        \n",
    "    # Add x and y axis lines    \n",
    "    plt.axhline(0, color='black', linestyle='--', alpha=0.4)\n",
    "    plt.axvline(0, color='black', linestyle='--', alpha=0.4)\n",
    "\n",
    "    plt.axis('scaled')\n",
    "    plt.axis((-5, 5, -5, 5))\n",
    "    \n",
    "    plt.legend(label, loc='upper left', bbox_to_anchor=(1.05, 1))\n",
    "    \n",
    "    # Save figure in a PNG file\n",
    "    if save:\n",
    "        plt.savefig(filename)\n",
    "    \n",
    "    plt.show()\n",
    "    "
   ]
  },
  {
   "cell_type": "code",
   "execution_count": 308,
   "id": "5e60608f",
   "metadata": {},
   "outputs": [],
   "source": [
    "def plot_laser_points(laser_data, W_RT, laser_points, max_sensor_range=5,\n",
    "                      savefig=False, filename='plot.png'):\n",
    "    fig = plt.figure(figsize=(6,6), dpi=100)\n",
    "\n",
    "    for i in range(len(laser_data)):\n",
    "        ang, dist = laser_data[i]\n",
    "        # Quando o feixe não acerta nada, retorna o valor máximo (definido na simulação)\n",
    "        # Logo, usar um pequeno limiar do máximo para considerar a leitura\n",
    "        if (max_sensor_range - dist) > 0.1:\n",
    "            c = 'r'\n",
    "            if ang < 0:    \n",
    "                c = 'b'\n",
    "            plt.plot(*laser_points[i, :2], 'o', color=c)\n",
    "    \n",
    "    # Desenha a localização do robô no plano\n",
    "    plt.plot(*W_RT[:2, 3], marker='o', markersize=10, color='black')\n",
    "    \n",
    "    # Adiciona uma seta para representar a orientação do robô\n",
    "    robot_orientation = np.arctan2(W_RT[1, 0], W_RT[0, 0])\n",
    "    arrow_length = 1.0\n",
    "    dx = arrow_length * np.cos(robot_orientation)\n",
    "    dy = arrow_length * np.sin(robot_orientation)\n",
    "    plt.arrow(*W_RT[:2, 3], dx, dy, color='black', head_width=0.2, head_length=0.3)\n",
    "    \n",
    "    plt.axis('scaled')\n",
    "    plt.axis((-5, 5, -5, 5))\n",
    "    plt.grid()\n",
    "    \n",
    "    if savefig:\n",
    "        plt.savefig(filename)\n",
    "\n",
    "    plt.show()\n",
    "    "
   ]
  },
  {
   "cell_type": "code",
   "execution_count": 309,
   "id": "358d0711",
   "metadata": {},
   "outputs": [],
   "source": [
    "def plot_incremental_laser_detection(laser_data_history, W_RT_history, \n",
    "                                     laser_points_history, max_sensor_range=5,\n",
    "                                     savefig=False, filename='plot.png'):\n",
    "\n",
    "    fig, ax = plt.subplots(figsize=(6,6), dpi=100)\n",
    "    \n",
    "    for laser_data, laser_points in zip(laser_data_history, laser_points_history):\n",
    "        for i in range(len(laser_data)):\n",
    "            ang, dist = laser_data[i]\n",
    "            # Quando o feixe não acerta nada, retorna o valor máximo (definido na simulação)\n",
    "            # Logo, usar um pequeno limiar do máximo para considerar a leitura\n",
    "            if (max_sensor_range - dist) > 0.1:\n",
    "                ax.plot(*laser_points[i, :2], 'o', color='black')\n",
    "    \n",
    "    # Desenha a localização do robô no plano\n",
    "    for W_RT in W_RT_history:\n",
    "        ax.plot(*W_RT[:2, 3], marker='*', markersize=10, color='grey')\n",
    "    \n",
    "        # Adiciona uma seta para representar a orientação do robô\n",
    "        robot_orientation = np.arctan2(W_RT[1, 0], W_RT[0, 0])\n",
    "        arrow_length = 0.4\n",
    "        dx = arrow_length * np.cos(robot_orientation)\n",
    "        dy = arrow_length * np.sin(robot_orientation)\n",
    "        ax.arrow(*W_RT[:2, 3], dx, dy, color='grey', head_width=0.2, head_length=0.3)\n",
    "    \n",
    "    ax.axis('scaled')\n",
    "    ax.axis((-5, 5, -5, 5))\n",
    "    ax.grid()\n",
    "    \n",
    "    if savefig:\n",
    "        plt.savefig(filename)\n",
    "\n",
    "    plt.show()\n"
   ]
  },
  {
   "cell_type": "markdown",
   "id": "713fc5ea",
   "metadata": {},
   "source": [
    "## Execution"
   ]
  },
  {
   "cell_type": "code",
   "execution_count": 310,
   "id": "365f368b",
   "metadata": {},
   "outputs": [],
   "source": [
    "# Connect to the Coppeliasim API\n",
    "client = RemoteAPIClient()\n",
    "sim = client.require('sim')\n"
   ]
  },
  {
   "cell_type": "code",
   "execution_count": 311,
   "id": "82fde40f",
   "metadata": {},
   "outputs": [],
   "source": [
    "# Start simulation\n",
    "sim.setStepping(False)\n",
    "sim.startSimulation()\n"
   ]
  },
  {
   "cell_type": "code",
   "execution_count": 312,
   "id": "54b49756",
   "metadata": {},
   "outputs": [],
   "source": [
    "# Paths for the models of the scene\n",
    "robot_path = '/Pioneer_p3dx'\n",
    "paths = [robot_path, '/Bill', '/r2d2', '/240cmHighWallT', '/Bowl', '/conferenceChair']\n"
   ]
  },
  {
   "cell_type": "markdown",
   "id": "a16192d6",
   "metadata": {},
   "source": [
    "### Calculate every transformation matrix for the global coordinates reference\n",
    "\n",
    "The homogeneous transformation matrices in *global_refs* represent the\n",
    "transformation of the object's local coordinates to global coordinates. In other words, if we have an object $O$, the elements of *global_refs* are the matrices $^{W}_{O}T$."
   ]
  },
  {
   "cell_type": "code",
   "execution_count": 313,
   "id": "03847645",
   "metadata": {},
   "outputs": [],
   "source": [
    "global_refs = global_references(paths)\n"
   ]
  },
  {
   "cell_type": "code",
   "execution_count": 328,
   "id": "4299bd1e",
   "metadata": {},
   "outputs": [
    {
     "data": {
      "image/png": "[encoded data removed]",
      "text/plain": [
       "<Figure size 640x480 with 1 Axes>"
      ]
     },
     "metadata": {},
     "output_type": "display_data"
    }
   ],
   "source": [
    "plot_references(*global_refs, label=paths)"
   ]
  },
  {
   "cell_type": "markdown",
   "id": "c6269678",
   "metadata": {},
   "source": [
    "### Calculate every transformation matrix for the local pioneer coordinates reference\n",
    "We calculate the homogeneous transformations of the coordinates of the other objects $O$ in the scene to the coordinates of the pioneer $R$. In other words, the result of this operation are matrices of type $^{R}_{O}T$:\n",
    "$$^{R}_{O}T = ^{R}_{W}T * ^{W}_{O}T = ^{W}_{R}T^{-1} * ^{W }_{O}T$$"
   ]
  },
  {
   "cell_type": "code",
   "execution_count": 325,
   "id": "6b5f83a0",
   "metadata": {},
   "outputs": [],
   "source": [
    "W_RT = global_refs[0]\n",
    "R_WT, local_refs = transform_coordinates(W_RT, *global_refs, label=paths[1:])"
   ]
  },
  {
   "cell_type": "code",
   "execution_count": 330,
   "id": "8dd702bd",
   "metadata": {},
   "outputs": [
    {
     "data": {
      "image/png": "[encoded data removed]",
      "text/plain": [
       "<Figure size 640x480 with 1 Axes>"
      ]
     },
     "metadata": {},
     "output_type": "display_data"
    }
   ],
   "source": [
    "plot_references(*local_refs, label=paths)"
   ]
  },
  {
   "cell_type": "markdown",
   "id": "d956f1d1",
   "metadata": {},
   "source": [
    "## Working with Laser Sensors"
   ]
  },
  {
   "cell_type": "markdown",
   "id": "939a89b7",
   "metadata": {},
   "source": [
    "### Function Definitions"
   ]
  },
  {
   "cell_type": "code",
   "execution_count": 315,
   "id": "6c8261b3",
   "metadata": {},
   "outputs": [],
   "source": [
    "# Extracted from github: https://github.com/verlab/dcc042-robotica-movel/blob/main/jupyter-notebooks/aula03-ferramental.ipynb\n",
    "\n",
    "def read_sensor_data(range_data_signal_id=\"hokuyo_range_data\", \n",
    "                   angle_data_signal_id=\"hokuyo_angle_data\"):\n",
    "    \"\"\"\n",
    "    It will try to capture the range and angle data from the simulator.\n",
    "    The request for the range data is sent in streaming mode to force\n",
    "    it to sync with the angle data request which acts as a mutex.\n",
    "\n",
    "    Parameters:\n",
    "        -clientId: simulator client id obtained through a successfull connection with the simulator.\n",
    "        -range_data_signal_id: string containing the range data signal pipe name.\n",
    "        -angle_data_signal_id: string containing the angle data signal pipe name.\n",
    "    \n",
    "    Returns:\n",
    "        -returns None if no data is recovered.\n",
    "        -returns two arrays, one with data range and the other with their angles, if data was \n",
    "            retrieved successfully.\n",
    "    \"\"\"\n",
    "    # The first call should be non-blocking to avoid getting out-of-sync angle data\n",
    "    string_range_data = sim.getStringSignal(range_data_signal_id)\n",
    "\n",
    "    # The second call should block to avoid out-of-sync scenarios\n",
    "    # between your python script and the simulator's main loop\n",
    "    # (your script may be slower than the simulator's main loop, thus\n",
    "    # slowing down data processing)\n",
    "    string_angle_data = sim.waitForSignal(angle_data_signal_id)\n",
    "\n",
    "    # Check the if both data were obtained correctly\n",
    "    if string_range_data and string_angle_data:\n",
    "        # Unpack data from range and sensor messages\n",
    "        raw_range_data = sim.unpackFloatTable(string_range_data)\n",
    "        raw_angle_data = sim.unpackFloatTable(string_angle_data)\n",
    "\n",
    "        return raw_range_data, raw_angle_data\n",
    "\n",
    "    # Return none in case were nothing was gotten from the simulator\n",
    "    return -1, -1\n"
   ]
  },
  {
   "cell_type": "code",
   "execution_count": 316,
   "id": "af86b3a0",
   "metadata": {},
   "outputs": [],
   "source": [
    "# Extracted from github: https://github.com/verlab/dcc042-robotica-movel/blob/main/jupyter-notebooks/aula03-ferramental.ipynb\n",
    "\n",
    "def draw_laser_data(laser_data, max_sensor_range=5):\n",
    "    \n",
    "    fig = plt.figure(figsize=(6,6), dpi=100)\n",
    "    ax = fig.add_subplot(111, aspect='equal')\n",
    "        \n",
    "    for i in range(len(laser_data)):\n",
    "        ang, dist = laser_data[i]\n",
    "        \n",
    "        # Quando o feixe não acerta nada, retorna o valor máximo (definido na simulação)\n",
    "        # Logo, usar um pequeno limiar do máximo para considerar a leitura\n",
    "        if (max_sensor_range - dist) > 0.1:\n",
    "            x = dist * np.cos(ang)\n",
    "            y = dist * np.sin(ang)\n",
    "            c = 'r'\n",
    "            if ang < 0:    \n",
    "                c = 'b'\n",
    "            ax.plot(x, y, 'o', color=c)\n",
    "\n",
    "    ax.plot(0, 0, 'k>', markersize=10)\n",
    "        \n",
    "    ax.grid()\n",
    "    ax.set_xlim([-max_sensor_range, max_sensor_range])\n",
    "    ax.set_ylim([-max_sensor_range, max_sensor_range])"
   ]
  },
  {
   "cell_type": "code",
   "execution_count": 317,
   "id": "a0edae17",
   "metadata": {},
   "outputs": [],
   "source": [
    "def handle_laser_data(laser_data, W_RT, W_LT, max_sensor_range=5):\n",
    "    \"\"\"\n",
    "    This function takes laser data and transforms it from the laser\n",
    "    reference frame to the global reference frame using provided\n",
    "    transformation matrices. It calculates the detection points of\n",
    "    the laser in both the local and global reference frames.\n",
    "\n",
    "    Parameters:\n",
    "        - laser_data (list): a list of tuples containing the\n",
    "            angle and distance of laser detections.\n",
    "        - W_RT (numpy.ndarray): transformation matrix for converting\n",
    "            laser points from the local reference frame to the global\n",
    "            reference frame.\n",
    "        - W_LT (numpy.ndarray): transformation matrix for converting\n",
    "            laser points from the global reference frame to the local\n",
    "            reference frame.\n",
    "        - max_sensor_range (float, optional): maximum sensor range for\n",
    "            filtering laser detections. Defaults to 5 units.\n",
    "\n",
    "    Returns:\n",
    "        - global_laser_points (np.ndarray): an array of shape containing\n",
    "            the laser detection points in the global reference frame.\n",
    "        - local_laser_points (np.ndarray): an array of shape containing\n",
    "            the laser detection points in the local reference frame.\n",
    "\n",
    "    \"\"\"\n",
    "    # Calculate laser detection points in the laser reference frame\n",
    "    local_laser_points = np.ones((len(laser_data), 4))\n",
    "    for i in range(len(laser_data)):\n",
    "        ang, dist = laser_data[i]\n",
    "        local_laser_points[i, 0] = dist * np.cos(ang)\n",
    "        local_laser_points[i, 1] = dist * np.sin(ang)\n",
    "        local_laser_points[i, 2] = 0\n",
    "        \n",
    "    # Calculate laser detection points in the global reference frame\n",
    "    global_laser_points = np.dot(W_LT, local_laser_points.T).T\n",
    "\n",
    "    return global_laser_points, local_laser_points\n"
   ]
  },
  {
   "cell_type": "markdown",
   "id": "ad6e755e",
   "metadata": {},
   "source": [
    "### Execution"
   ]
  },
  {
   "cell_type": "code",
   "execution_count": 318,
   "id": "2cfc57cb",
   "metadata": {},
   "outputs": [],
   "source": [
    "# Handle para os dados do LASER\n",
    "laser_range_data = \"hokuyo_range_data\"\n",
    "laser_angle_data = \"hokuyo_angle_data\"\n",
    "\n",
    "# Handle para o modelo do LASER\n",
    "laser_path = '/Pioneer_p3dx/fastHokuyo'\n",
    "laser_handle = sim.getObject(laser_path)\n",
    "\n",
    "# Geralmente a primeira leitura é inválida (atenção ao Operation Mode)\n",
    "# Em loop até garantir que as leituras serão válidas\n",
    "while True:\n",
    "    range_data = sim.getStringSignal(laser_range_data)\n",
    "    if range_data:\n",
    "        break\n"
   ]
  },
  {
   "cell_type": "markdown",
   "id": "b750e1d6",
   "metadata": {},
   "source": [
    "With the laser handles, we can read the sensors and plot the results according to the **robot reference.**"
   ]
  },
  {
   "cell_type": "code",
   "execution_count": 319,
   "id": "5d090574",
   "metadata": {},
   "outputs": [
    {
     "data": {
      "image/png": "[encoded data removed]",
      "text/plain": [
       "<Figure size 600x600 with 1 Axes>"
      ]
     },
     "metadata": {},
     "output_type": "display_data"
    }
   ],
   "source": [
    "# Proceeding with the reading\n",
    "raw_range_data, raw_angle_data = read_sensor_data(laser_range_data, laser_angle_data)\n",
    "laser_data = np.array([raw_angle_data, raw_range_data]).T\n",
    "draw_laser_data(laser_data)\n"
   ]
  },
  {
   "cell_type": "markdown",
   "id": "b9c64d16",
   "metadata": {},
   "source": [
    "We have the laser transformation matrix for the global coordinates ($^{W}_{L}T$) and the pioneer transformation matrix for the global coordinates ($^{W}_{R}T$) in *W_RT*. So, we want to calculate:\n",
    "$$^{R}_{L}T = ^{R}_{W}T * ^{W}_{L}T$$ $$^{R}_{L}T = ^{W}_ {R}T^{-1} * ^{W}_{L}T$$"
   ]
  },
  {
   "cell_type": "code",
   "execution_count": 320,
   "id": "1ffb08e9",
   "metadata": {},
   "outputs": [],
   "source": [
    "W_RT, W_LT = global_references([robot_path, laser_path])"
   ]
  },
  {
   "cell_type": "code",
   "execution_count": 321,
   "id": "a7685e77",
   "metadata": {},
   "outputs": [],
   "source": [
    "R_WT, R_LT = transform_coordinates(W_RT, W_LT) \n"
   ]
  },
  {
   "cell_type": "markdown",
   "id": "6378fde6",
   "metadata": {},
   "source": [
    "We can see below the proof of the following equation:\n",
    "$$^{W}_{R}T * ^{R}_{L}T = ^{W}_{L}T$$"
   ]
  },
  {
   "cell_type": "code",
   "execution_count": 322,
   "id": "7748911d",
   "metadata": {},
   "outputs": [
    {
     "data": {
      "text/plain": [
       "array([[[ True,  True,  True,  True],\n",
       "        [ True,  True,  True,  True],\n",
       "        [ True,  True,  True,  True],\n",
       "        [ True,  True,  True,  True]]])"
      ]
     },
     "execution_count": 322,
     "metadata": {},
     "output_type": "execute_result"
    }
   ],
   "source": [
    "np.round(W_RT @ R_LT, 3) == np.round(W_LT, 3)\n"
   ]
  },
  {
   "cell_type": "markdown",
   "id": "9dc1e1f3",
   "metadata": {},
   "source": [
    "We can also make the necessary transformations to plot laser detections from a **global reference.**"
   ]
  },
  {
   "cell_type": "code",
   "execution_count": 323,
   "id": "9f06f0cb",
   "metadata": {},
   "outputs": [
    {
     "data": {
      "image/png": "[encoded data removed]",
      "text/plain": [
       "<Figure size 600x600 with 1 Axes>"
      ]
     },
     "metadata": {},
     "output_type": "display_data"
    }
   ],
   "source": [
    "i = 1\n",
    "while i < 10:\n",
    "    clear_output(wait=True)\n",
    "    \n",
    "    # Read laser data\n",
    "    raw_range_data, raw_angle_data = read_sensor_data(laser_range_data,\n",
    "                                                      laser_angle_data)\n",
    "    laser_data = np.array([raw_angle_data, raw_range_data]).T\n",
    "    \n",
    "    # Calculate the position of the lasers and of the robot in the global reference\n",
    "    W_RT, W_LT = global_references([robot_path, laser_path])\n",
    "    \n",
    "    # Get the result of the laser detection\n",
    "    global_laser_points, local_laser_points = handle_laser_data(laser_data, W_RT, W_LT)\n",
    "    \n",
    "    # Plot the resulting points\n",
    "    filename = f'laser{i}.png'\n",
    "       \n",
    "    plot_laser_points(laser_data, W_RT, global_laser_points, filename=filename)\n",
    "        \n",
    "    i += 1\n",
    "    time.sleep(2)\n"
   ]
  },
  {
   "cell_type": "markdown",
   "id": "7c234713",
   "metadata": {},
   "source": [
    "Finally, we can **track the trajectory** of a robot through a scene. For that, we will use a simple locomotion script for the robot and an incremental plot.\n",
    "\n",
    "**IN THE CELL BELOW WE WILL USE A DIFFERENT SCENE**\n",
    "\n",
    "**ABAIXO USAMOS A CENA VISTA NA AULA TRÊS DA DISCIPLINA (DISPONIBILIZADA NO MOODLE)**"
   ]
  },
  {
   "cell_type": "code",
   "execution_count": 299,
   "id": "0ebed158",
   "metadata": {},
   "outputs": [
    {
     "data": {
      "image/png": "[encoded data removed]",
      "text/plain": [
       "<Figure size 600x600 with 1 Axes>"
      ]
     },
     "metadata": {},
     "output_type": "display_data"
    }
   ],
   "source": [
    "# Extracted from github: https://github.com/verlab/dcc042-robotica-movel/blob/main/jupyter-notebooks/aula03-ferramental.ipynb\n",
    "\n",
    "# Connect to the Coppeliasim API\n",
    "client = RemoteAPIClient()\n",
    "sim = client.require('sim')\n",
    "\n",
    "sim.startSimulation()\n",
    "\n",
    "l_wheel = sim.getObject(robot_path + '_leftMotor')\n",
    "r_wheel = sim.getObject(robot_path + '_rightMotor')\n",
    "\n",
    "# Dados para o plot incremental\n",
    "gpoints_history = []\n",
    "pose_history = []\n",
    "laser_data_history = []\n",
    "                                              \n",
    "# Dados do Pioneer\n",
    "L = 0.381   # Metros\n",
    "r = 0.0975  # Metros\n",
    "\n",
    "t = 0\n",
    "# Lembrar de habilitar o 'Real-time mode'\n",
    "startTime = time.time()\n",
    "lastTime = startTime\n",
    "while t < 20:\n",
    "\n",
    "    now = time.time()\n",
    "    dt = now - lastTime\n",
    "\n",
    "    # Fazendo leitura do laser   \n",
    "    raw_range_data, raw_angle_data = read_sensor_data(laser_range_data,\n",
    "                                                  laser_angle_data)\n",
    "    if raw_range_data == raw_angle_data == -1:\n",
    "        break\n",
    "        \n",
    "    laser_data = np.array([raw_angle_data, raw_range_data]).T\n",
    "    laser_data_history.append(laser_data)\n",
    "    \n",
    "    # Calculate the position of the lasers and of the robot in the global reference\n",
    "    W_RT, W_LT = global_references([robot_path, laser_path])\n",
    "    pose_history.append(W_RT)\n",
    "    \n",
    "    # Get the result of the laser detection\n",
    "    global_laser_points, local_laser_points = handle_laser_data(laser_data, W_RT, W_LT)\n",
    "    gpoints_history.append(global_laser_points)\n",
    "\n",
    "    # Velocidade básica (linear, angular)\n",
    "    v = 0\n",
    "    w = np.deg2rad(0)      \n",
    "\n",
    "    frente = int(len(laser_data)/2)\n",
    "    lado_direito = int(len(laser_data)*1/4)\n",
    "    lado_esquerdo = int(len(laser_data)*3/4)\n",
    "\n",
    "    if laser_data[frente, 1] > 2:\n",
    "        v = .5\n",
    "        w = 0\n",
    "    elif laser_data[lado_direito, 1] > 2:\n",
    "        v = 0\n",
    "        w = np.deg2rad(-30)\n",
    "    elif laser_data[lado_esquerdo, 1] > 2:\n",
    "        v = 0\n",
    "        w = np.deg2rad(30)\n",
    "\n",
    "    # Isso é o modelo cinemático, estudaremos detalhadamente depois!\n",
    "    wl = v/r - (w*L)/(2*r)\n",
    "    wr = v/r + (w*L)/(2*r)\n",
    "\n",
    "    # Enviando velocidades\n",
    "    sim.setJointTargetVelocity(l_wheel, wl)\n",
    "    sim.setJointTargetVelocity(r_wheel, wr)  \n",
    "    \n",
    "\n",
    "    t = t + dt  \n",
    "    lastTime = now\n",
    "\n",
    "# Parando o robô    \n",
    "sim.setJointTargetVelocity(r_wheel, 0)\n",
    "sim.setJointTargetVelocity(l_wheel, 0) \n",
    "\n",
    "# Plotando caminho percorrido pelo robô\n",
    "plot_incremental_laser_detection(laser_data_history, pose_history[::10], gpoints_history)\n"
   ]
  },
  {
   "cell_type": "code",
   "execution_count": 297,
   "id": "f728b804",
   "metadata": {},
   "outputs": [],
   "source": [
    "# End simulation\n",
    "sim.stopSimulation()\n"
   ]
  }
 ],
 "metadata": {
  "kernelspec": {
   "display_name": "Python 3 (ipykernel)",
   "language": "python",
   "name": "python3"
  },
  "language_info": {
   "codemirror_mode": {
    "name": "ipython",
    "version": 3
   },
   "file_extension": ".py",
   "mimetype": "text/x-python",
   "name": "python",
   "nbconvert_exporter": "python",
   "pygments_lexer": "ipython3",
   "version": "3.11.7"
  }
 },
 "nbformat": 4,
 "nbformat_minor": 5
}
